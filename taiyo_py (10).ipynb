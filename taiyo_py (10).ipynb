{
  "nbformat": 4,
  "nbformat_minor": 0,
  "metadata": {
    "colab": {
      "provenance": [],
      "gpuType": "T4"
    },
    "kernelspec": {
      "name": "python3",
      "display_name": "Python 3"
    },
    "language_info": {
      "name": "python"
    },
    "accelerator": "GPU"
  },
  "cells": [
    {
      "cell_type": "code",
      "source": [
        "import numpy as np\n",
        "A=np.array([[0,1],[2,3],[4,5]])\n",
        "B=np.array([[0,1,2,3],[4,5,6,7]])\n",
        "C=np.dot(A,B)\n",
        "C"
      ],
      "metadata": {
        "id": "O6phuYd8-Vz9",
        "colab": {
          "base_uri": "https://localhost:8080/"
        },
        "outputId": "227cbe84-3067-4376-d5f4-436f25b3da7c"
      },
      "execution_count": 4,
      "outputs": [
        {
          "output_type": "execute_result",
          "data": {
            "text/plain": [
              "array([[ 4,  5,  6,  7],\n",
              "       [12, 17, 22, 27],\n",
              "       [20, 29, 38, 47]])"
            ]
          },
          "metadata": {},
          "execution_count": 4
        }
      ]
    },
    {
      "cell_type": "code",
      "source": [
        "C.max()"
      ],
      "metadata": {
        "colab": {
          "base_uri": "https://localhost:8080/"
        },
        "id": "oYi7kcZ3GNZh",
        "outputId": "350b1890-e1f5-46a7-db56-c7804cf9258d"
      },
      "execution_count": 5,
      "outputs": [
        {
          "output_type": "execute_result",
          "data": {
            "text/plain": [
              "47"
            ]
          },
          "metadata": {},
          "execution_count": 5
        }
      ]
    },
    {
      "cell_type": "code",
      "source": [],
      "metadata": {
        "id": "VxtCsHUeGecz"
      },
      "execution_count": null,
      "outputs": []
    }
  ]
}