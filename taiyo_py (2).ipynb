{
  "nbformat": 4,
  "nbformat_minor": 0,
  "metadata": {
    "colab": {
      "provenance": [],
      "gpuType": "T4"
    },
    "kernelspec": {
      "name": "python3",
      "display_name": "Python 3"
    },
    "language_info": {
      "name": "python"
    },
    "accelerator": "GPU"
  },
  "cells": [
    {
      "cell_type": "code",
      "source": [
        "import pandas as pd\n",
        "import numpy as np\n",
        "from sklearn.datasets import load_wine\n",
        "from sklearn.model_selection import train_test_split\n",
        "from sklearn.ensemble import RandomForestClassifier\n",
        "from sklearn.metrics import accuracy_score\n",
        "dataset = load_wine()\n",
        "dataset\n",
        "dataset.data\n",
        "dataset.feature_names\n",
        "df = pd.DataFrame(data = dataset.data, columns = dataset.feature_names)\n",
        "df\n",
        "df[\"category\"] = dataset.target\n",
        "df.head()\n",
        "df.shape\n",
        "x = dataset.data\n",
        "y = dataset.target\n",
        "train_test_split(x,y, test_size = 0.3, random_state = 5 )\n",
        "x_train, x_test, y_train, y_test = train_test_split(x, y, test_size = 0.3, random_state = 5)\n",
        "print(x.shape, x_train.shape, x_test.shape, y.shape, y_train.shape, y_test.shape)\n",
        "model = RandomForestClassifier()\n",
        "model.fit(x_train, y_train)\n",
        "y_pred = model.predict(x_test)\n",
        "y_pred\n",
        "y_test\n",
        "accuracy_score(y_test, y_pred)"
      ],
      "metadata": {
        "id": "gV-NJj3yunzx",
        "colab": {
          "base_uri": "https://localhost:8080/"
        },
        "outputId": "7c6e8979-fc10-4ed2-9f3b-bf39191fb9cf"
      },
      "execution_count": 1,
      "outputs": [
        {
          "output_type": "stream",
          "name": "stdout",
          "text": [
            "(178, 13) (124, 13) (54, 13) (178,) (124,) (54,)\n"
          ]
        },
        {
          "output_type": "execute_result",
          "data": {
            "text/plain": [
              "0.9629629629629629"
            ]
          },
          "metadata": {},
          "execution_count": 1
        }
      ]
    },
    {
      "cell_type": "code",
      "source": [],
      "metadata": {
        "id": "E5PNfCyl8deF"
      },
      "execution_count": null,
      "outputs": []
    }
  ]
}